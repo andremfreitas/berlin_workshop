{
 "cells": [
  {
   "cell_type": "markdown",
   "id": "ac4be6db",
   "metadata": {},
   "source": [
    "# Recap:\n",
    "Electronic structure properties provide valuable insights into the characteristics of atomistic systems, such as molecules or materials. However, first-principle electronic structure calculations are computationally demanding, making them impractical for analyzing large structures or processes over extended time scales. Classical calculations on the other hand are fast but inaccurate and do not return meaningful results for most systems. Machine learning (ML) bridges this gap. Trained on ab-initio data, the machine learning model can be used to infer electronic structure properties. It can also be used for inverse design, circumventing tedeous high throughput screening."
   ]
  },
  {
   "cell_type": "markdown",
   "id": "fbc58104",
   "metadata": {},
   "source": [
    "<img src=\"figs/intro3.png\"  />\n"
   ]
  },
  {
   "cell_type": "markdown",
   "id": "c5fe1480",
   "metadata": {},
   "source": [
    "In this tutorial, our focus lies on Machine Learning (ML) force fields, which find application in molecular dynamics (MD) simulations and structure relaxations. ML Force fields typically predict the energy of a system and calculate the atomic forces by differentiating the neural network output with respect to the atomic coordinates\n",
    "$\n",
    "\\mathbf{\\hat{F}} = - \\nabla \\hat{E}~.\n",
    "$\n",
    "The Loss function of the optimization task is then given by \n",
    "$$\n",
    "\\mathcal{L} = \\rho \\Vert E - \\hat{E}\\Vert^2 + (1-\\rho) \\left\\Vert \\mathbf{F} -  \\mathbf{\\hat{F}} \\right\\Vert~.\n",
    "$$"
   ]
  },
  {
   "cell_type": "markdown",
   "id": "231cbf25",
   "metadata": {},
   "source": [
    "In particular we are going to use the network architecture SchNet, which is based on the idea of continuous-filter convolutions. It can also be described in the framework of Message Passing or Graph Neural Networks."
   ]
  },
  {
   "cell_type": "markdown",
   "id": "e8853152",
   "metadata": {},
   "source": [
    "<img src=\"figs/schnet_filters.png\" />"
   ]
  },
  {
   "cell_type": "markdown",
   "id": "aca16a87",
   "metadata": {},
   "source": [
    "The network architecture is depicted below"
   ]
  },
  {
   "cell_type": "markdown",
   "id": "45b2467c",
   "metadata": {},
   "source": [
    "<img src=\"figs/schnet_blocks.png\"/>"
   ]
  },
  {
   "cell_type": "markdown",
   "id": "1dad4f3f",
   "metadata": {},
   "source": [
    "# Tutorial"
   ]
  },
  {
   "cell_type": "markdown",
   "id": "b78d923e",
   "metadata": {},
   "source": [
    "To train SchNet we recommend using the software package SchNetPack:\n",
    "https://github.com/atomistic-machine-learning/schnetpack\n",
    "\n",
    "The readme file explains how to train a model using the CLI. Since we are using custom data, you must adapt the training configurations of SchNetPack. This can be achieved by creating your own experiment config file or by loading a config file provided in SchNetPack and override some configs using the CLI. \n",
    "\n",
    "Be aware that on our computation cluster it is strongly recommended to move the database file to the ```/tmp``` directory before training. Otherwise the training will be slowed down excessively. You can do so by specifying the ```data_workdir``` in the respective ```schnetpack.data.AtomsDataModule```. More information regarding the file system of the computation cluster can be found here: https://git.tu-berlin.de/ml-group/hydra/documentation/-/blob/main/README.md#tmp-and-temp"
   ]
  },
  {
   "cell_type": "markdown",
   "id": "7d48f99e",
   "metadata": {},
   "source": [
    "Once the training has finished you can create an ASE calculator based on the trained model. To this end you can use the ```spk.interfaces.SpkCalculator```. Atomic Simulation Environment (ASE) is an extensive tool to work with atomic systems: https://wiki.fysik.dtu.dk/ase/index.html"
   ]
  },
  {
   "cell_type": "code",
   "execution_count": 1,
   "id": "471ed8b3",
   "metadata": {},
   "outputs": [
    {
     "name": "stderr",
     "output_type": "stream",
     "text": [
      "INFO:schnetpack.interfaces.ase_interface:Loading model from dummy_model\n"
     ]
    }
   ],
   "source": [
    "import torch\n",
    "import schnetpack as spk\n",
    "from ase.io import read\n",
    "import numpy as np\n",
    "\n",
    "\n",
    "model = torch.load(\"dummy_model\")\n",
    "cutoff_radius = model.representation.cutoff_fn.cutoff.item()\n",
    "\n",
    "spk_calculator = spk.interfaces.SpkCalculator(\n",
    "    model_file=\"dummy_model\",\n",
    "    neighbor_list=spk.transform.MatScipyNeighborList(cutoff=cutoff_radius),\n",
    "    device=\"cuda\",\n",
    ")\n",
    "\n",
    "at = read(\"./ethanol_data.xyz\", index=\"0\")\n",
    "at.pbc = np.array([False, False, False])\n",
    "at.calc = spk_calculator\n",
    "\n"
   ]
  },
  {
   "cell_type": "markdown",
   "id": "c8f383e2",
   "metadata": {},
   "source": [
    "Once you defined a calculator for your ```ase.Atoms``` object you can use it just like any other calculator provided by ASE. For example you can calculate the forces for the respective structure:"
   ]
  },
  {
   "cell_type": "code",
   "execution_count": 2,
   "id": "749d7b0c",
   "metadata": {},
   "outputs": [
    {
     "name": "stdout",
     "output_type": "stream",
     "text": [
      "forces:\n",
      " [[ 3.25218122e-03  3.10400818e-02  4.70496531e-09]\n",
      " [ 1.31115625e-02 -1.37734916e-02 -1.93852645e-09]\n",
      " [ 7.93496426e-03  2.27089282e-02 -9.69263225e-10]\n",
      " [-4.61420370e-03 -2.06240360e-02  1.77281555e-02]\n",
      " [-4.61420370e-03 -2.06240378e-02 -1.77281592e-02]\n",
      " [-6.71029976e-03  1.19957030e-02  1.52832633e-02]\n",
      " [-6.71030255e-03  1.19957058e-02 -1.52832642e-02]\n",
      " [-1.69290788e-02 -1.04204854e-02  6.46175502e-10]\n",
      " [ 1.52793797e-02 -1.22983688e-02  8.07719377e-11]]\n"
     ]
    }
   ],
   "source": [
    "print(\"forces:\\n\", at.get_forces())"
   ]
  },
  {
   "cell_type": "markdown",
   "id": "3b371550",
   "metadata": {},
   "source": [
    "The ASE documentation will help you to run \n",
    "* MDs: https://wiki.fysik.dtu.dk/ase/ase/md.html and \n",
    "* Structure relaxations: https://wiki.fysik.dtu.dk/ase/ase/optimize.html"
   ]
  },
  {
   "cell_type": "markdown",
   "id": "ee4b92a0",
   "metadata": {},
   "source": [
    "# Hints:\n",
    "\n",
    "Most common reasons for exploding molecules or deformed structures:\n",
    "* integration constant is too large\n",
    "* your choice of units is inconsistent\n",
    "* your temperature might be too large\n",
    "\n",
    "Too low temperature on the other hand will slow down the exploration of the conformation space."
   ]
  },
  {
   "cell_type": "markdown",
   "id": "500e54a2",
   "metadata": {},
   "source": [
    "# Contact\n",
    "* Jonas Lederer (MAR 4.059)\n",
    "* jonas.lederer@tu-berlin.de"
   ]
  },
  {
   "cell_type": "code",
   "execution_count": null,
   "id": "5274ada2",
   "metadata": {},
   "outputs": [],
   "source": []
  }
 ],
 "metadata": {
  "kernelspec": {
   "display_name": "Python 3 (ipykernel)",
   "language": "python",
   "name": "python3"
  },
  "language_info": {
   "codemirror_mode": {
    "name": "ipython",
    "version": 3
   },
   "file_extension": ".py",
   "mimetype": "text/x-python",
   "name": "python",
   "nbconvert_exporter": "python",
   "pygments_lexer": "ipython3",
   "version": "3.10.12"
  }
 },
 "nbformat": 4,
 "nbformat_minor": 5
}
